{
 "cells": [
  {
   "cell_type": "markdown",
   "id": "9651be13-b552-418d-803e-d6fdc3ec316d",
   "metadata": {},
   "source": [
    "# PROBLEM STATEMENT\n",
    "A retail company needs to know when to store, what to store and the quantities to store in inventory.\n",
    "As a Data scientist, you've been tasked with the responsibility of predicting the set of products the\n",
    "company should store in its inventory for November 2011 sales with their corresponding quantities\n",
    "based on historical sales. The dataset attached contains the company sales data from December\n",
    "2009 to October 2011.\n",
    "Dataset\n",
    "● InvoiceNo: Invoice number. Nominal. A 6-digit integral number uniquely assigned to each\n",
    "transaction. If this code starts with the letter 'c', it indicates a cancellation.\n",
    "● StockCode: Product (item) code. Nominal. A 5-digit integral number uniquely assigned to\n",
    "each distinct product.\n",
    "● Description: Product (item) name. Nominal.\n",
    "● Quantity: The quantities of each product (item) per transaction. Numeric.\n",
    "● InvoiceDate: Invice date and time. Numeric. The day and time when a transaction was\n",
    "generated.\n",
    "● UnitPrice: Unit price. Numeric. Product price per unit.\n",
    "● CustomerID: Customer number. Nominal. A 5-digit integral number uniquely assigned t"
   ]
  },
  {
   "cell_type": "code",
   "execution_count": null,
   "id": "22df72d2-2053-4179-b8d7-ccea3ebbc70d",
   "metadata": {},
   "outputs": [],
   "source": [
    "# import libraries\n",
    "\n",
    "import pandas as pd\n",
    "import numpy as np\n",
    "import matplotlib.pyplot as plt\n",
    "import seaborn as sns\n",
    "from pandas_profiling import ProfileReport\n",
    "\n",
    "import statsmodels.api as sm\n",
    "from statsmodels.stats.outliers_influence import variance_inflation_factor"
   ]
  },
  {
   "cell_type": "code",
   "execution_count": 2,
   "id": "6eb8f5e1-4294-431a-ad3b-8d8c64fd20fb",
   "metadata": {},
   "outputs": [],
   "source": [
    "# load in the data\n",
    "\n",
    "data = pd.read_csv(\"train.csv\")"
   ]
  },
  {
   "cell_type": "code",
   "execution_count": 3,
   "id": "c72bb53a-5393-4a18-8d9a-0be23c664487",
   "metadata": {},
   "outputs": [
    {
     "data": {
      "text/html": [
       "<div>\n",
       "<style scoped>\n",
       "    .dataframe tbody tr th:only-of-type {\n",
       "        vertical-align: middle;\n",
       "    }\n",
       "\n",
       "    .dataframe tbody tr th {\n",
       "        vertical-align: top;\n",
       "    }\n",
       "\n",
       "    .dataframe thead th {\n",
       "        text-align: right;\n",
       "    }\n",
       "</style>\n",
       "<table border=\"1\" class=\"dataframe\">\n",
       "  <thead>\n",
       "    <tr style=\"text-align: right;\">\n",
       "      <th></th>\n",
       "      <th>Invoice</th>\n",
       "      <th>StockCode</th>\n",
       "      <th>Description</th>\n",
       "      <th>Quantity</th>\n",
       "      <th>InvoiceDate</th>\n",
       "      <th>Price</th>\n",
       "      <th>Customer ID</th>\n",
       "      <th>Country</th>\n",
       "    </tr>\n",
       "  </thead>\n",
       "  <tbody>\n",
       "    <tr>\n",
       "      <th>0</th>\n",
       "      <td>489434</td>\n",
       "      <td>85048</td>\n",
       "      <td>15CM CHRISTMAS GLASS BALL 20 LIGHTS</td>\n",
       "      <td>12</td>\n",
       "      <td>2009-12-01 07:45:00</td>\n",
       "      <td>6,95</td>\n",
       "      <td>13085.0</td>\n",
       "      <td>United Kingdom</td>\n",
       "    </tr>\n",
       "    <tr>\n",
       "      <th>1</th>\n",
       "      <td>489434</td>\n",
       "      <td>79323P</td>\n",
       "      <td>PINK CHERRY LIGHTS</td>\n",
       "      <td>12</td>\n",
       "      <td>2009-12-01 07:45:00</td>\n",
       "      <td>6,75</td>\n",
       "      <td>13085.0</td>\n",
       "      <td>United Kingdom</td>\n",
       "    </tr>\n",
       "    <tr>\n",
       "      <th>2</th>\n",
       "      <td>489434</td>\n",
       "      <td>79323W</td>\n",
       "      <td>WHITE CHERRY LIGHTS</td>\n",
       "      <td>12</td>\n",
       "      <td>2009-12-01 07:45:00</td>\n",
       "      <td>6,75</td>\n",
       "      <td>13085.0</td>\n",
       "      <td>United Kingdom</td>\n",
       "    </tr>\n",
       "    <tr>\n",
       "      <th>3</th>\n",
       "      <td>489434</td>\n",
       "      <td>22041</td>\n",
       "      <td>RECORD FRAME 7\" SINGLE SIZE</td>\n",
       "      <td>48</td>\n",
       "      <td>2009-12-01 07:45:00</td>\n",
       "      <td>2,1</td>\n",
       "      <td>13085.0</td>\n",
       "      <td>United Kingdom</td>\n",
       "    </tr>\n",
       "    <tr>\n",
       "      <th>4</th>\n",
       "      <td>489434</td>\n",
       "      <td>21232</td>\n",
       "      <td>STRAWBERRY CERAMIC TRINKET BOX</td>\n",
       "      <td>24</td>\n",
       "      <td>2009-12-01 07:45:00</td>\n",
       "      <td>1,25</td>\n",
       "      <td>13085.0</td>\n",
       "      <td>United Kingdom</td>\n",
       "    </tr>\n",
       "  </tbody>\n",
       "</table>\n",
       "</div>"
      ],
      "text/plain": [
       "  Invoice StockCode                          Description  Quantity  \\\n",
       "0  489434     85048  15CM CHRISTMAS GLASS BALL 20 LIGHTS        12   \n",
       "1  489434    79323P                   PINK CHERRY LIGHTS        12   \n",
       "2  489434    79323W                  WHITE CHERRY LIGHTS        12   \n",
       "3  489434     22041         RECORD FRAME 7\" SINGLE SIZE         48   \n",
       "4  489434     21232       STRAWBERRY CERAMIC TRINKET BOX        24   \n",
       "\n",
       "           InvoiceDate Price  Customer ID         Country  \n",
       "0  2009-12-01 07:45:00  6,95      13085.0  United Kingdom  \n",
       "1  2009-12-01 07:45:00  6,75      13085.0  United Kingdom  \n",
       "2  2009-12-01 07:45:00  6,75      13085.0  United Kingdom  \n",
       "3  2009-12-01 07:45:00   2,1      13085.0  United Kingdom  \n",
       "4  2009-12-01 07:45:00  1,25      13085.0  United Kingdom  "
      ]
     },
     "execution_count": 3,
     "metadata": {},
     "output_type": "execute_result"
    }
   ],
   "source": [
    "# read first five data\n",
    "\n",
    "data.head()"
   ]
  },
  {
   "cell_type": "code",
   "execution_count": 4,
   "id": "67c70fb4-27f8-4993-b2ea-484aeec7530a",
   "metadata": {},
   "outputs": [
    {
     "data": {
      "text/plain": [
       "Index(['Invoice', 'StockCode', 'Description', 'Quantity', 'InvoiceDate',\n",
       "       'Price', 'Customer ID', 'Country'],\n",
       "      dtype='object')"
      ]
     },
     "execution_count": 4,
     "metadata": {},
     "output_type": "execute_result"
    }
   ],
   "source": [
    "# check the columns \n",
    "\n",
    "data.columns"
   ]
  },
  {
   "cell_type": "code",
   "execution_count": 5,
   "id": "bf9e2eeb-cd43-4faf-aa39-4d461a7766d5",
   "metadata": {},
   "outputs": [
    {
     "data": {
      "text/plain": [
       "(957134, 8)"
      ]
     },
     "execution_count": 5,
     "metadata": {},
     "output_type": "execute_result"
    }
   ],
   "source": [
    "# check the rows and columns\n",
    "\n",
    "data.shape"
   ]
  },
  {
   "cell_type": "code",
   "execution_count": 6,
   "id": "229b8d71-b174-4160-bc02-7649c21ef217",
   "metadata": {},
   "outputs": [
    {
     "data": {
      "text/plain": [
       "Invoice         object\n",
       "StockCode       object\n",
       "Description     object\n",
       "Quantity         int64\n",
       "InvoiceDate     object\n",
       "Price           object\n",
       "Customer ID    float64\n",
       "Country         object\n",
       "dtype: object"
      ]
     },
     "execution_count": 6,
     "metadata": {},
     "output_type": "execute_result"
    }
   ],
   "source": [
    "# check the datatype of the data\n",
    "\n",
    "data.dtypes"
   ]
  },
  {
   "cell_type": "code",
   "execution_count": 7,
   "id": "84fbd8b7-5628-4f37-b2d9-c35cbe06d3d7",
   "metadata": {},
   "outputs": [],
   "source": [
    "# drop null data\n",
    "\n",
    "data = data.dropna()"
   ]
  },
  {
   "cell_type": "code",
   "execution_count": 8,
   "id": "49002133-9efd-47b5-acdb-547b9ac33f79",
   "metadata": {},
   "outputs": [
    {
     "name": "stderr",
     "output_type": "stream",
     "text": [
      "/var/folders/4g/1rtpcg7s7jd0t1rlzzd5xbz00000gn/T/ipykernel_25094/2608909877.py:2: FutureWarning: The default value of regex will change from True to False in a future version.\n",
      "  data[\"StockCode\"] = data[\"StockCode\"].str.replace(\"[ABCDEFGHIJKLMNOPQRSTUVWXYZ]\",\"\")\n"
     ]
    }
   ],
   "source": [
    "# remove the strings from Stock Column\n",
    "data[\"StockCode\"] = data[\"StockCode\"].str.replace(\"[ABCDEFGHIJKLMNOPQRSTUVWXYZ]\",\"\")\n",
    "data['StockCode'] = pd.to_numeric(data['StockCode'], errors='coerce')\n",
    "data[\"StockCode\"]=data[\"StockCode\"].astype(\"float64\")"
   ]
  },
  {
   "cell_type": "code",
   "execution_count": 9,
   "id": "c4dcfe44-6c20-4b3a-894a-c8dd3e341503",
   "metadata": {},
   "outputs": [],
   "source": [
    "# drop rows where stockcode is null\n",
    "\n",
    "data.dropna(subset = [\"StockCode\"],inplace = True)\n",
    "data[\"StockCode\"]=data[\"StockCode\"].astype(\"int64\")"
   ]
  },
  {
   "cell_type": "code",
   "execution_count": 10,
   "id": "18b4866e-9362-4318-b3e8-c03c5bcceef5",
   "metadata": {},
   "outputs": [],
   "source": [
    "#label encoding was done for countries, they were binned into continent first then encoded\n",
    "\n",
    "def label_states (data):\n",
    "    if data['Country'] in ['SA',\"Nigeria\"]:\n",
    "        return \"Africa\"\n",
    "    if data['Country'] in [\"Japan\",\"Korea\", \"bahrain\", \"Lebanon\", \"Saudi Arabia\", \"Singapore\", \"Thailand\", \"United Arab Emirates\", \"Israel\"]:\n",
    "        return \"Asia\"\n",
    "    if data['Country'] in [\"Malta\",\"austria\",\"belgium\",\"Channel Islands\",\"Cyprus\",\"Czech Republic\", \"Denmark\",\"EIRE\",\"European Community\",\"Finland\",\"France\",\"unspecified\",\"Germany\", \"Greece\",\"Iceland\",\"Italy\",\"Lithuania\",\"Norway\",\"Poland\",\"Portugal\",\"Switzerland\",\"United Kingdom\",\"Netherlands\",\"Spain\", \"Sweden\"]:\n",
    "        return \"Europe\"\n",
    "    if data['Country'] in [\"canada\",\"West Indes\",\"USA\"]:\n",
    "        return \"North America\"\n",
    "    if data['Country'] in [\"brazil\"]:\n",
    "        return  \"south america\"\n",
    "    return 'Others'\n",
    "\n",
    "data['Continent'] = data.apply(lambda data: label_states(data), axis=1)\n",
    "data['Continent'].replace({'Africa':0, 'Asia':1,'Europe':2, 'North America':3,'south america':4,'Others':5}, inplace=True)\n"
   ]
  },
  {
   "cell_type": "code",
   "execution_count": 11,
   "id": "e958ec74-132c-411b-8fa6-2f6dec0de778",
   "metadata": {},
   "outputs": [
    {
     "data": {
      "text/plain": [
       "Continent\n",
       "0      29\n",
       "1     943\n",
       "2    3850\n",
       "3     253\n",
       "5    1629\n",
       "Name: StockCode, dtype: int64"
      ]
     },
     "execution_count": 11,
     "metadata": {},
     "output_type": "execute_result"
    }
   ],
   "source": [
    "#  this was done to check customers buying patterns across continent\n",
    "\n",
    "data.groupby(['Continent'])['StockCode'].nunique()"
   ]
  },
  {
   "cell_type": "code",
   "execution_count": 12,
   "id": "85b85530-5d31-407d-bdb3-39c26cde3acc",
   "metadata": {},
   "outputs": [],
   "source": [
    "#Quantity of Items Sold Per Continent\n",
    "\n",
    "def total_sales_per_continent(data):\n",
    "    sales_by_continent = data.groupby('Continent')['Quantity'].sum().reset_index()\n",
    "    \n",
    "    fig, ax = plt.subplots(figsize=(10,6))\n",
    "    sns.barplot(sales_by_continent.Continent, sales_by_continent.Continent, order=sales_by_continent.sort_values('Quantity',ascending = False).Continent)\n",
    "          \n",
    "    ax.set(xlabel = \"Continent\", ylabel = \"Sum of Quantity Sold\", title = \"Total Sales Per Continent\")\n",
    "    plt.xticks(fontsize=12, rotation=45)\n",
    "       \n",
    "    return sales_by_continent"
   ]
  },
  {
   "cell_type": "code",
   "execution_count": 13,
   "id": "005b1d3d-57be-44f8-b846-db5a3373cd01",
   "metadata": {},
   "outputs": [
    {
     "name": "stderr",
     "output_type": "stream",
     "text": [
      "/Users/mutiubusari/opt/anaconda3/lib/python3.9/site-packages/seaborn/_decorators.py:36: FutureWarning: Pass the following variables as keyword args: x, y. From version 0.12, the only valid positional argument will be `data`, and passing other arguments without an explicit keyword will result in an error or misinterpretation.\n",
      "  warnings.warn(\n"
     ]
    },
    {
     "data": {
      "text/html": [
       "<div>\n",
       "<style scoped>\n",
       "    .dataframe tbody tr th:only-of-type {\n",
       "        vertical-align: middle;\n",
       "    }\n",
       "\n",
       "    .dataframe tbody tr th {\n",
       "        vertical-align: top;\n",
       "    }\n",
       "\n",
       "    .dataframe thead th {\n",
       "        text-align: right;\n",
       "    }\n",
       "</style>\n",
       "<table border=\"1\" class=\"dataframe\">\n",
       "  <thead>\n",
       "    <tr style=\"text-align: right;\">\n",
       "      <th></th>\n",
       "      <th>Continent</th>\n",
       "      <th>Quantity</th>\n",
       "    </tr>\n",
       "  </thead>\n",
       "  <tbody>\n",
       "    <tr>\n",
       "      <th>0</th>\n",
       "      <td>0</td>\n",
       "      <td>102</td>\n",
       "    </tr>\n",
       "    <tr>\n",
       "      <th>1</th>\n",
       "      <td>1</td>\n",
       "      <td>49064</td>\n",
       "    </tr>\n",
       "    <tr>\n",
       "      <th>2</th>\n",
       "      <td>2</td>\n",
       "      <td>9153765</td>\n",
       "    </tr>\n",
       "    <tr>\n",
       "      <th>3</th>\n",
       "      <td>3</td>\n",
       "      <td>3287</td>\n",
       "    </tr>\n",
       "    <tr>\n",
       "      <th>4</th>\n",
       "      <td>5</td>\n",
       "      <td>152400</td>\n",
       "    </tr>\n",
       "  </tbody>\n",
       "</table>\n",
       "</div>"
      ],
      "text/plain": [
       "   Continent  Quantity\n",
       "0          0       102\n",
       "1          1     49064\n",
       "2          2   9153765\n",
       "3          3      3287\n",
       "4          5    152400"
      ]
     },
     "execution_count": 13,
     "metadata": {},
     "output_type": "execute_result"
    },
    {
     "data": {
      "image/png": "[encoded data removed]",
      "text/plain": [
       "<Figure size 720x432 with 1 Axes>"
      ]
     },
     "metadata": {
      "needs_background": "light"
     },
     "output_type": "display_data"
    }
   ],
   "source": [
    "total_sales_per_continent(data)\n"
   ]
  },
  {
   "cell_type": "code",
   "execution_count": 14,
   "id": "b0d4668c-bd27-411b-abf0-a0d47cd8a2dd",
   "metadata": {},
   "outputs": [],
   "source": [
    "# Sales Data Per Item\n",
    "\n",
    "def total_sales_per_item(data):\n",
    "    sales_by_store = data.groupby('StockCode')['Quantity'].sum().reset_index()\n",
    "    \n",
    "    fig, ax = plt.subplots(figsize=(20,8))\n",
    "    sns.barplot(sales_by_store.StockCode, sales_by_store.Quantity, order=sales_by_store.sort_values('Quantity', ascending = False).StockCode)\n",
    "    \n",
    "    ax.set(xlabel = \"StockCode\", ylabel = \"Quantity Sold\", title = \"Total Quantity Sold Per Stock ID\")\n",
    "    plt.xticks(fontsize=12, rotation=90)\n",
    "    \n",
    "    return"
   ]
  },
  {
   "cell_type": "code",
   "execution_count": 15,
   "id": "18f12b63-3553-4da4-a104-774bb944c211",
   "metadata": {},
   "outputs": [
    {
     "name": "stderr",
     "output_type": "stream",
     "text": [
      "/Users/mutiubusari/opt/anaconda3/lib/python3.9/site-packages/seaborn/_decorators.py:36: FutureWarning: Pass the following variables as keyword args: x, y. From version 0.12, the only valid positional argument will be `data`, and passing other arguments without an explicit keyword will result in an error or misinterpretation.\n",
      "  warnings.warn(\n"
     ]
    },
    {
     "data": {
      "image/png": "[encoded data removed]",
      "text/plain": [
       "<Figure size 1440x576 with 1 Axes>"
      ]
     },
     "metadata": {
      "needs_background": "light"
     },
     "output_type": "display_data"
    }
   ],
   "source": [
    "total_sales_per_item(data)\n"
   ]
  },
  {
   "cell_type": "code",
   "execution_count": 17,
   "id": "aa9afb97-e6a6-40ad-80a6-a61f914665c9",
   "metadata": {},
   "outputs": [
    {
     "data": {
      "text/plain": [
       "Continent  StockCode\n",
       "0          16156        25\n",
       "           20749         1\n",
       "           20750         1\n",
       "           21034         1\n",
       "           21108         1\n",
       "                        ..\n",
       "5          90059         6\n",
       "           90098         4\n",
       "           90120         4\n",
       "           90145         2\n",
       "           90164         2\n",
       "Name: Quantity, Length: 6704, dtype: int64"
      ]
     },
     "execution_count": 17,
     "metadata": {},
     "output_type": "execute_result"
    }
   ],
   "source": [
    "# grouping of continent and stockcode per quantity to get insights\n",
    "\n",
    "item_sales_per_continent = data.groupby(['Continent', 'StockCode'])['Quantity'].sum()\n",
    "item_sales_per_continent"
   ]
  },
  {
   "cell_type": "code",
   "execution_count": 18,
   "id": "f47c00a0-bd76-4597-9e9d-c160f110bdce",
   "metadata": {},
   "outputs": [
    {
     "data": {
      "image/png": "[encoded data removed]",
      "text/plain": [
       "<Figure size 1440x720 with 1 Axes>"
      ]
     },
     "metadata": {
      "needs_background": "light"
     },
     "output_type": "display_data"
    },
    {
     "data": {
      "image/png": "[encoded data removed]",
      "text/plain": [
       "<Figure size 1440x720 with 1 Axes>"
      ]
     },
     "metadata": {
      "needs_background": "light"
     },
     "output_type": "display_data"
    },
    {
     "data": {
      "image/png": "[encoded data removed]",
      "text/plain": [
       "<Figure size 1440x720 with 1 Axes>"
      ]
     },
     "metadata": {
      "needs_background": "light"
     },
     "output_type": "display_data"
    },
    {
     "data": {
      "image/png": "[encoded data removed]",
      "text/plain": [
       "<Figure size 1440x720 with 1 Axes>"
      ]
     },
     "metadata": {
      "needs_background": "light"
     },
     "output_type": "display_data"
    },
    {
     "data": {
      "image/png": "[encoded data removed]",
      "text/plain": [
       "<Figure size 1440x720 with 1 Axes>"
      ]
     },
     "metadata": {
      "needs_background": "light"
     },
     "output_type": "display_data"
    }
   ],
   "source": [
    "for i in data.Continent.unique():\n",
    "    plt.figure(figsize=(20,10))\n",
    "    item_sales_per_continent.loc[i,:].plot(kind= \"bar\")\n",
    "    plt.xlabel(\"Item Id\"),\n",
    "    plt.ylabel(\"Sum of Sales\")\n",
    "    plt.title(\"Total Item Sales for Continent:{}\".format(i))\n",
    "    plt.xticks(fontsize=16, rotation=90)\n",
    "    plt.show();"
   ]
  },
  {
   "cell_type": "code",
   "execution_count": 19,
   "id": "cddc60fc-6bdb-4fd4-89f2-c6a7b4f7a692",
   "metadata": {},
   "outputs": [
    {
     "data": {
      "text/html": [
       "<div>\n",
       "<style scoped>\n",
       "    .dataframe tbody tr th:only-of-type {\n",
       "        vertical-align: middle;\n",
       "    }\n",
       "\n",
       "    .dataframe tbody tr th {\n",
       "        vertical-align: top;\n",
       "    }\n",
       "\n",
       "    .dataframe thead th {\n",
       "        text-align: right;\n",
       "    }\n",
       "</style>\n",
       "<table border=\"1\" class=\"dataframe\">\n",
       "  <thead>\n",
       "    <tr style=\"text-align: right;\">\n",
       "      <th></th>\n",
       "      <th>Continent</th>\n",
       "      <th>StockCode</th>\n",
       "      <th>Quantity</th>\n",
       "    </tr>\n",
       "  </thead>\n",
       "  <tbody>\n",
       "    <tr>\n",
       "      <th>0</th>\n",
       "      <td>0</td>\n",
       "      <td>16156</td>\n",
       "      <td>25</td>\n",
       "    </tr>\n",
       "    <tr>\n",
       "      <th>1</th>\n",
       "      <td>0</td>\n",
       "      <td>20749</td>\n",
       "      <td>1</td>\n",
       "    </tr>\n",
       "    <tr>\n",
       "      <th>2</th>\n",
       "      <td>0</td>\n",
       "      <td>20750</td>\n",
       "      <td>1</td>\n",
       "    </tr>\n",
       "    <tr>\n",
       "      <th>3</th>\n",
       "      <td>0</td>\n",
       "      <td>21034</td>\n",
       "      <td>1</td>\n",
       "    </tr>\n",
       "    <tr>\n",
       "      <th>4</th>\n",
       "      <td>0</td>\n",
       "      <td>21108</td>\n",
       "      <td>1</td>\n",
       "    </tr>\n",
       "    <tr>\n",
       "      <th>...</th>\n",
       "      <td>...</td>\n",
       "      <td>...</td>\n",
       "      <td>...</td>\n",
       "    </tr>\n",
       "    <tr>\n",
       "      <th>6699</th>\n",
       "      <td>5</td>\n",
       "      <td>90059</td>\n",
       "      <td>6</td>\n",
       "    </tr>\n",
       "    <tr>\n",
       "      <th>6700</th>\n",
       "      <td>5</td>\n",
       "      <td>90098</td>\n",
       "      <td>4</td>\n",
       "    </tr>\n",
       "    <tr>\n",
       "      <th>6701</th>\n",
       "      <td>5</td>\n",
       "      <td>90120</td>\n",
       "      <td>4</td>\n",
       "    </tr>\n",
       "    <tr>\n",
       "      <th>6702</th>\n",
       "      <td>5</td>\n",
       "      <td>90145</td>\n",
       "      <td>2</td>\n",
       "    </tr>\n",
       "    <tr>\n",
       "      <th>6703</th>\n",
       "      <td>5</td>\n",
       "      <td>90164</td>\n",
       "      <td>2</td>\n",
       "    </tr>\n",
       "  </tbody>\n",
       "</table>\n",
       "<p>6704 rows × 3 columns</p>\n",
       "</div>"
      ],
      "text/plain": [
       "      Continent  StockCode  Quantity\n",
       "0             0      16156        25\n",
       "1             0      20749         1\n",
       "2             0      20750         1\n",
       "3             0      21034         1\n",
       "4             0      21108         1\n",
       "...         ...        ...       ...\n",
       "6699          5      90059         6\n",
       "6700          5      90098         4\n",
       "6701          5      90120         4\n",
       "6702          5      90145         2\n",
       "6703          5      90164         2\n",
       "\n",
       "[6704 rows x 3 columns]"
      ]
     },
     "execution_count": 19,
     "metadata": {},
     "output_type": "execute_result"
    }
   ],
   "source": [
    "# A graph showing sales across continent\n",
    "\n",
    "item_sales_per_continent_df= pd.DataFrame(data.groupby(['Continent', 'StockCode'])['Quantity'].sum())\n",
    "item_sales_per_continent_df.reset_index(inplace=True)\n",
    "item_sales_per_continent_df"
   ]
  },
  {
   "cell_type": "code",
   "execution_count": 30,
   "id": "56519975-f937-4119-9452-141787199345",
   "metadata": {},
   "outputs": [],
   "source": [
    "#Sales Data Per Store\n",
    "\n",
    "def total_sales_per_continent(data):\n",
    "    sales_by_continent = data.groupby('Continent')['Quantity'].sum().reset_index()\n",
    "    \n",
    "    fig, ax = plt.subplots(figsize=(10,6))\n",
    "    sns.barplot(sales_by_continent.Continent, sales_by_continent.Continent, order=sales_by_continent.sort_values('Quantity',ascending = False).Continent)\n",
    "          \n",
    "    ax.set(xlabel = \"Continent\", ylabel = \"Sum of Quantity Sold\", title = \"Total Sales Per Continent\")\n",
    "    plt.xticks(fontsize=12, rotation=45)\n",
    "       \n",
    "    return sales_by_continent"
   ]
  },
  {
   "cell_type": "code",
   "execution_count": 31,
   "id": "dc4faf62-8d8c-48f8-ad19-41ffeed8cf46",
   "metadata": {},
   "outputs": [
    {
     "data": {
      "image/png": "[encoded data removed]",
      "text/plain": [
       "<Figure size 720x576 with 1 Axes>"
      ]
     },
     "metadata": {
      "needs_background": "light"
     },
     "output_type": "display_data"
    }
   ],
   "source": [
    "plt.figure(figsize=(10,8))\n",
    "sns.barplot(x=df['hour'], y=df['Quantity']);"
   ]
  },
  {
   "cell_type": "code",
   "execution_count": 23,
   "id": "a15f8a06-153b-47c9-a32f-82af29989ebe",
   "metadata": {},
   "outputs": [],
   "source": [
    "# Make a copy of the data\n",
    "\n",
    "df = data.copy()"
   ]
  },
  {
   "cell_type": "code",
   "execution_count": 24,
   "id": "6e7fbe86-591a-4a5a-a3d8-f4bdf35e5224",
   "metadata": {},
   "outputs": [],
   "source": [
    "# Extracting of the data features to drill down and get more insights    \n",
    "\n",
    "df['date'] = pd.to_datetime(df['InvoiceDate'])\n",
    "df['year'] = pd.DatetimeIndex(df['InvoiceDate']).year\n",
    "#df['year'] = df['date'].apply(lambda x: x.year)\n",
    "df['month'] = df['date'].apply(lambda x: x.month)\n",
    "df['day'] = df['date'].apply(lambda x: x.day)\n",
    "df['day_of_week'] = df['date'].apply(lambda x: x.dayofweek)\n",
    "df['is_quarter_date'] = df['date'].apply(lambda x: x.quarter)\n",
    "df[\"hour\"] = df['date'].apply(lambda x: x.hour)\n",
    "df.drop(['date'], axis=1, inplace=True)"
   ]
  },
  {
   "cell_type": "code",
   "execution_count": 25,
   "id": "39d78ab3-f32b-4fbd-a2a2-a97412af3b90",
   "metadata": {},
   "outputs": [],
   "source": [
    "# drop the invoice date after more important columns have been extracted\n",
    "\n",
    "df.drop(['InvoiceDate'], axis=1, inplace=True)"
   ]
  },
  {
   "cell_type": "code",
   "execution_count": 26,
   "id": "fd5974ec-63c9-4106-a23e-1af821bc1c04",
   "metadata": {},
   "outputs": [],
   "source": [
    "# creating function to identify time of day: morning, afternoon, evening, night, etc.\n",
    "\n",
    "def time_of_day(n):\n",
    "    if n in range(4,8):\n",
    "        return 'Early Morning'\n",
    "    elif n in range(8,12):\n",
    "        return 'Morning'\n",
    "    elif n in range(12,18):\n",
    "        return 'Afternoon'\n",
    "    elif n in range(18,21):\n",
    "        return 'Evening'\n",
    "    elif n in range(21,25) or n==0:\n",
    "        return 'Night'\n",
    "    elif n in range(1,4):\n",
    "        return 'Late Night'"
   ]
  },
  {
   "cell_type": "code",
   "execution_count": 27,
   "id": "0240397f-ad82-4d24-846f-896bd5117e0b",
   "metadata": {},
   "outputs": [],
   "source": [
    "# applying the function\n",
    "\n",
    "df['Type_of_Day'] = df['hour'].apply(lambda x: time_of_day(x))"
   ]
  },
  {
   "cell_type": "code",
   "execution_count": 28,
   "id": "e6eea10c-1d66-4cb8-a801-ab62bc37f791",
   "metadata": {},
   "outputs": [],
   "source": [
    "# a function for the seasons that exist in nigeria, classified into wet and ry season using the climatic information|\n",
    "\n",
    "def month2seasons(x):\n",
    "    if x in [1,2,3,4,5,6,7]:\n",
    "        season = 'Dry'\n",
    "    elif x in [8,9,10,11,12]:\n",
    "        season = 'Wet'\n",
    "    return season\n",
    "\n",
    "df['Season'] = df['month'].apply(month2seasons)"
   ]
  },
  {
   "cell_type": "code",
   "execution_count": 29,
   "id": "16100450-2fc7-45ab-8c35-8ad47f02571c",
   "metadata": {},
   "outputs": [],
   "source": [
    "# encoding the season data\n",
    "\n",
    "df['Type_of_Day'].replace({'Afternoon': 0, 'Morning' : 1, 'Night':2, 'Evening':3, 'Early Morning':4, 'Late Night':5}, \n",
    "                          inplace=True)\n",
    "df['Season'].replace({'Dry':0, 'Wet':1}, inplace=True)"
   ]
  },
  {
   "cell_type": "code",
   "execution_count": 32,
   "id": "b9d384c4-87c7-44db-a7ec-5830b641d600",
   "metadata": {},
   "outputs": [
    {
     "name": "stderr",
     "output_type": "stream",
     "text": [
      "/var/folders/4g/1rtpcg7s7jd0t1rlzzd5xbz00000gn/T/ipykernel_25094/3750055114.py:4: SettingWithCopyWarning: \n",
      "A value is trying to be set on a copy of a slice from a DataFrame.\n",
      "Try using .loc[row_indexer,col_indexer] = value instead\n",
      "\n",
      "See the caveats in the documentation: https://pandas.pydata.org/pandas-docs/stable/user_guide/indexing.html#returning-a-view-versus-a-copy\n",
      "  test_data[\"year\"]=test_data[\"year\"].replace(2010,2011)\n"
     ]
    }
   ],
   "source": [
    "# generating the test data from previous year historical data\n",
    "\n",
    "test_data = df[df[\"month\"]== 11 ]\n",
    "test_data[\"year\"]=test_data[\"year\"].replace(2010,2011)"
   ]
  },
  {
   "cell_type": "code",
   "execution_count": 33,
   "id": "fc5a3be0-5eeb-4989-98a1-fec59abea1c0",
   "metadata": {},
   "outputs": [
    {
     "name": "stdout",
     "output_type": "stream",
     "text": [
      "No. of training examples: 737977\n",
      "No. of testing examples: 61291\n"
     ]
    }
   ],
   "source": [
    "# splitting the data into train data and test data\n",
    "\n",
    "train_data = df.copy()\n",
    "test_data = test_data.copy()\n",
    "\n",
    "print(f\"No. of training examples: {train_data.shape[0]}\")\n",
    "print(f\"No. of testing examples: {test_data.shape[0]}\")"
   ]
  },
  {
   "cell_type": "code",
   "execution_count": 35,
   "id": "56311be0-bc77-41ec-92a5-3e45a830d7a2",
   "metadata": {},
   "outputs": [],
   "source": [
    "# Extract the StockCode columns needed for submission file before dropping them in the train and test data\n",
    "\n",
    "output = pd.DataFrame({\"StockCode\": test_data['StockCode'], \"Description\": test_data['Description']})"
   ]
  },
  {
   "cell_type": "code",
   "execution_count": 34,
   "id": "4e490da9-0e29-4286-8cac-3bf7a32548b7",
   "metadata": {},
   "outputs": [
    {
     "data": {
      "text/plain": [
       "Index(['Invoice', 'StockCode', 'Description', 'Quantity', 'Price',\n",
       "       'Customer ID', 'Country', 'Continent', 'year', 'month', 'day',\n",
       "       'day_of_week', 'is_quarter_date', 'hour', 'Type_of_Day', 'Season'],\n",
       "      dtype='object')"
      ]
     },
     "execution_count": 34,
     "metadata": {},
     "output_type": "execute_result"
    }
   ],
   "source": [
    "train_data.columns"
   ]
  },
  {
   "cell_type": "code",
   "execution_count": 37,
   "id": "43c0cbec-ac1d-41e5-81ac-e19088d67b53",
   "metadata": {},
   "outputs": [],
   "source": [
    "# drop columns because they are categorical\n",
    "\n",
    "train_data = train_data.drop(columns=['Country',\"Description\", \"Invoice\",'Continent', 'Price','Customer ID'])\n",
    "test_data = test_data.drop(columns=['Country', \"Invoice\", \"Description\", \"Quantity\", 'Continent','Price','Customer ID'])"
   ]
  },
  {
   "cell_type": "code",
   "execution_count": 39,
   "id": "8807a475-c30f-4eba-bd63-e983732e9ee9",
   "metadata": {},
   "outputs": [
    {
     "data": {
      "text/plain": [
       "(737977, 10)"
      ]
     },
     "execution_count": 39,
     "metadata": {},
     "output_type": "execute_result"
    }
   ],
   "source": [
    "train_data.shape"
   ]
  },
  {
   "cell_type": "code",
   "execution_count": 40,
   "id": "5d54f2c9-0b4d-4d77-b25a-6a9af0779645",
   "metadata": {},
   "outputs": [],
   "source": [
    "#split train dataset into training and validation set\n",
    "y = train_data['Quantity'].copy()\n",
    "X = train_data.drop('Quantity', axis=1).copy()"
   ]
  },
  {
   "cell_type": "code",
   "execution_count": 41,
   "id": "ae9e6b3c-4420-44b3-afbf-75bc5d5c3e82",
   "metadata": {},
   "outputs": [],
   "source": [
    "from sklearn.model_selection import train_test_split\n",
    "from sklearn.preprocessing import StandardScaler\n",
    "from sklearn.preprocessing import LabelEncoder\n",
    "\n",
    "from sklearn.metrics import mean_squared_error as mse\n",
    "from sklearn.metrics import r2_score as r2\n",
    "\n",
    "from sklearn.linear_model import Ridge\n",
    "from sklearn.neural_network import MLPRegressor\n",
    "from sklearn.ensemble import RandomForestRegressor\n",
    "from catboost import CatBoostRegressor\n",
    "from sklearn.linear_model import Lasso, LinearRegression\n",
    "#from lightgbm import LGBMRegressor"
   ]
  },
  {
   "cell_type": "code",
   "execution_count": 42,
   "id": "cd88e9c7-1ef6-49ad-8118-44a3ad0f3e80",
   "metadata": {},
   "outputs": [],
   "source": [
    "X_train, X_test, y_train, y_test = train_test_split(X.values, y, train_size=0.7, random_state=42)"
   ]
  },
  {
   "cell_type": "code",
   "execution_count": 31,
   "id": "8e76e704-eb66-45bc-80df-05fccf0d2cb0",
   "metadata": {},
   "outputs": [
    {
     "name": "stdout",
     "output_type": "stream",
     "text": [
      "       Regressor trained.\n"
     ]
    }
   ],
   "source": [
    "models = {\n",
    "    '       Regressor' : LinearRegression()\n",
    "}\n",
    "\n",
    "for name, model in models.items():\n",
    "    model.fit(X_train, y_train)\n",
    "    print(name + ' trained.')"
   ]
  },
  {
   "cell_type": "code",
   "execution_count": 44,
   "id": "4bffd6fc-6240-466a-a433-7bf304fe65c7",
   "metadata": {},
   "outputs": [
    {
     "name": "stdout",
     "output_type": "stream",
     "text": [
      "Linear Regression(Ridge) trained.\n",
      "           Random Forest trained.\n",
      "                Catboost trained.\n",
      "Linear Regression(lasso) trained.\n",
      "       Linear Regression trained.\n"
     ]
    }
   ],
   "source": [
    "# instantiate \n",
    "models = {\n",
    "    'Linear Regression(Ridge)' : Ridge(),\n",
    "    '           Random Forest' : RandomForestRegressor(),\n",
    "    '                Catboost' : CatBoostRegressor(verbose=0),\n",
    "    'Linear Regression(lasso)' : Lasso(),\n",
    "    '       Linear Regression' : LinearRegression()\n",
    "}\n",
    "\n",
    "for name, model in models.items():\n",
    "    model.fit(X_train, y_train)\n",
    "    print(name + ' trained.')"
   ]
  },
  {
   "cell_type": "code",
   "execution_count": 45,
   "id": "3f1674e8-3df2-490f-b6c0-10025a23175c",
   "metadata": {},
   "outputs": [],
   "source": [
    "# function to calculate the RMSE \n",
    "\n",
    "def get_rmse(y_true, y_pred):\n",
    "    rmse = np.sqrt(np.mean((y_test - y_pred)**2))\n",
    "    return rmse"
   ]
  },
  {
   "cell_type": "code",
   "execution_count": 47,
   "id": "f52ed0a4-cc53-4563-a648-ce7411a0b4de",
   "metadata": {},
   "outputs": [
    {
     "name": "stdout",
     "output_type": "stream",
     "text": [
      "Linear Regression(Ridge) RMSE: 174.71\n",
      "           Random Forest RMSE: 267.57\n",
      "                Catboost RMSE: 308.97\n",
      "Linear Regression(lasso) RMSE: 174.72\n",
      "       Linear Regression RMSE: 174.71\n"
     ]
    }
   ],
   "source": [
    "# get RMSE score\n",
    "for name, model in models.items():\n",
    "    y_pred = model.predict(X_test)\n",
    "    rmse = get_rmse(y_test, y_pred)\n",
    "    print(name + ' RMSE: {:.2f}'.format(rmse))"
   ]
  },
  {
   "cell_type": "code",
   "execution_count": 49,
   "id": "08514ba4-63d0-4ad9-8500-d92a0a803701",
   "metadata": {},
   "outputs": [],
   "source": [
    "def mean_squared_error(true, pred):\n",
    "    squared_error = np.square(true - pred) \n",
    "    sum_squared_error = np.sum(squared_error)\n",
    "    mse_loss = sum_squared_error / true.size\n",
    "    return mse_loss"
   ]
  },
  {
   "cell_type": "code",
   "execution_count": 50,
   "id": "8caad493-070d-4962-a825-1b0a6139c065",
   "metadata": {},
   "outputs": [
    {
     "name": "stdout",
     "output_type": "stream",
     "text": [
      "Linear Regression(Ridge) MSE: 30522.17\n",
      "           Random Forest MSE: 71595.72\n",
      "                Catboost MSE: 95459.75\n",
      "Linear Regression(lasso) MSE: 30525.81\n",
      "       Linear Regression MSE: 30522.17\n"
     ]
    }
   ],
   "source": [
    "# get RMSE score\n",
    "for name, model in models.items():\n",
    "    y_pred = model.predict(X_test)\n",
    "    mse = mean_squared_error(y_test, y_pred)\n",
    "    print(name + ' MSE: {:.2f}'.format(mse))"
   ]
  },
  {
   "cell_type": "code",
   "execution_count": 55,
   "id": "6aa9dc03-eedd-4118-8087-a77931848358",
   "metadata": {},
   "outputs": [
    {
     "data": {
      "text/plain": [
       "174.705960784943"
      ]
     },
     "execution_count": 55,
     "metadata": {},
     "output_type": "execute_result"
    }
   ],
   "source": [
    "# testing with validation set\n",
    "from sklearn.metrics import mean_squared_error as mse\n",
    "\n",
    "reg = LinearRegression()\n",
    "reg.fit(X_train, y_train)\n",
    "reg_pred = reg.predict(X_test)\n",
    "mse(y_test, reg_pred , squared=False)"
   ]
  },
  {
   "cell_type": "code",
   "execution_count": 57,
   "id": "edd7493d-0e73-40de-a5c9-ad7f7fe1af9a",
   "metadata": {},
   "outputs": [
    {
     "data": {
      "image/png": "[encoded data removed]",
      "text/plain": [
       "<Figure size 432x288 with 1 Axes>"
      ]
     },
     "metadata": {
      "needs_background": "light"
     },
     "output_type": "display_data"
    }
   ],
   "source": [
    "# check for important features\n",
    "\n",
    "from sklearn.inspection import permutation_importance\n",
    "\n",
    "result = permutation_importance(reg, X.values, y, n_repeats=10, random_state=42)\n",
    "\n",
    "perm_imp_idx = result.importances_mean.argsort()\n",
    "\n",
    "plt.boxplot(result.importances[perm_imp_idx].T, vert=False, labels=X.columns[perm_imp_idx])\n",
    "plt.title('Feature Importance for the Dataset')\n",
    "\n",
    "plt.show()"
   ]
  },
  {
   "cell_type": "code",
   "execution_count": 58,
   "id": "0cd1911d-3d23-400e-8c16-c314c6922dec",
   "metadata": {},
   "outputs": [
    {
     "name": "stderr",
     "output_type": "stream",
     "text": [
      "/Users/mutiubusari/opt/anaconda3/lib/python3.9/site-packages/sklearn/base.py:443: UserWarning: X has feature names, but LinearRegression was fitted without feature names\n",
      "  warnings.warn(\n"
     ]
    },
    {
     "data": {
      "text/plain": [
       "array([17.90152039, 17.90158159, 17.3576833 , ..., 11.22615685,\n",
       "       11.2278499 , 11.25302131])"
      ]
     },
     "execution_count": 58,
     "metadata": {},
     "output_type": "execute_result"
    }
   ],
   "source": [
    "predicted_test = reg.predict(test_data)\n",
    "predicted_test"
   ]
  },
  {
   "cell_type": "code",
   "execution_count": 59,
   "id": "e3dbd4e9-fb57-4c59-9313-a717cfc4c7a1",
   "metadata": {},
   "outputs": [
    {
     "data": {
      "text/plain": [
       "(61291, 9)"
      ]
     },
     "execution_count": 59,
     "metadata": {},
     "output_type": "execute_result"
    }
   ],
   "source": [
    "test_data.shape"
   ]
  },
  {
   "cell_type": "code",
   "execution_count": 71,
   "id": "f6d2adac-442a-49b6-b9f4-772b82821599",
   "metadata": {},
   "outputs": [
    {
     "data": {
      "text/plain": [
       "(61291, 2)"
      ]
     },
     "execution_count": 71,
     "metadata": {},
     "output_type": "execute_result"
    }
   ],
   "source": [
    "output.shape"
   ]
  },
  {
   "cell_type": "code",
   "execution_count": 104,
   "id": "8e111531-a118-439a-8766-8798961c457d",
   "metadata": {},
   "outputs": [
    {
     "data": {
      "text/plain": [
       "0        17\n",
       "1        17\n",
       "2        17\n",
       "3        17\n",
       "4        17\n",
       "         ..\n",
       "61286    11\n",
       "61287    11\n",
       "61288    11\n",
       "61289    11\n",
       "61290    11\n",
       "Name: Quantity, Length: 61291, dtype: int64"
      ]
     },
     "execution_count": 104,
     "metadata": {},
     "output_type": "execute_result"
    }
   ],
   "source": [
    "vendease_sub['Quantity'] = vendease_sub['Quantity'].astype(int)\n",
    "vendease_sub['Quantity']"
   ]
  },
  {
   "cell_type": "code",
   "execution_count": 105,
   "id": "1b3858e4-7478-428b-b0f0-cb254d942376",
   "metadata": {},
   "outputs": [],
   "source": [
    "vendease_sub = pd.DataFrame(zip(output['StockCode'], output['Description'], predicted_test), columns = ['StockCode', 'Description','Quantity'])"
   ]
  },
  {
   "cell_type": "code",
   "execution_count": 106,
   "id": "62252599-0671-4738-8e91-4cccc685b942",
   "metadata": {},
   "outputs": [
    {
     "data": {
      "text/html": [
       "<div>\n",
       "<style scoped>\n",
       "    .dataframe tbody tr th:only-of-type {\n",
       "        vertical-align: middle;\n",
       "    }\n",
       "\n",
       "    .dataframe tbody tr th {\n",
       "        vertical-align: top;\n",
       "    }\n",
       "\n",
       "    .dataframe thead th {\n",
       "        text-align: right;\n",
       "    }\n",
       "</style>\n",
       "<table border=\"1\" class=\"dataframe\">\n",
       "  <thead>\n",
       "    <tr style=\"text-align: right;\">\n",
       "      <th></th>\n",
       "      <th>StockCode</th>\n",
       "      <th>Description</th>\n",
       "      <th>Quantity</th>\n",
       "    </tr>\n",
       "  </thead>\n",
       "  <tbody>\n",
       "    <tr>\n",
       "      <th>0</th>\n",
       "      <td>48184</td>\n",
       "      <td>DOORMAT ENGLISH ROSE</td>\n",
       "      <td>17.901520</td>\n",
       "    </tr>\n",
       "    <tr>\n",
       "      <th>1</th>\n",
       "      <td>48187</td>\n",
       "      <td>DOORMAT NEW ENGLAND</td>\n",
       "      <td>17.901582</td>\n",
       "    </tr>\n",
       "    <tr>\n",
       "      <th>2</th>\n",
       "      <td>21523</td>\n",
       "      <td>DOORMAT FANCY FONT HOME SWEET HOME</td>\n",
       "      <td>17.357683</td>\n",
       "    </tr>\n",
       "    <tr>\n",
       "      <th>3</th>\n",
       "      <td>22708</td>\n",
       "      <td>WRAP DOLLY GIRL</td>\n",
       "      <td>17.381855</td>\n",
       "    </tr>\n",
       "    <tr>\n",
       "      <th>4</th>\n",
       "      <td>22781</td>\n",
       "      <td>GUMBALL MAGAZINE RACK</td>\n",
       "      <td>17.383344</td>\n",
       "    </tr>\n",
       "    <tr>\n",
       "      <th>...</th>\n",
       "      <td>...</td>\n",
       "      <td>...</td>\n",
       "      <td>...</td>\n",
       "    </tr>\n",
       "    <tr>\n",
       "      <th>61286</th>\n",
       "      <td>21175</td>\n",
       "      <td>GIN + TONIC DIET METAL SIGN</td>\n",
       "      <td>11.227728</td>\n",
       "    </tr>\n",
       "    <tr>\n",
       "      <th>61287</th>\n",
       "      <td>21524</td>\n",
       "      <td>DOORMAT SPOTTY HOME SWEET HOME</td>\n",
       "      <td>11.234846</td>\n",
       "    </tr>\n",
       "    <tr>\n",
       "      <th>61288</th>\n",
       "      <td>21098</td>\n",
       "      <td>CHRISTMAS TOILET ROLL</td>\n",
       "      <td>11.226157</td>\n",
       "    </tr>\n",
       "    <tr>\n",
       "      <th>61289</th>\n",
       "      <td>21181</td>\n",
       "      <td>PLEASE ONE PERSON METAL SIGN</td>\n",
       "      <td>11.227850</td>\n",
       "    </tr>\n",
       "    <tr>\n",
       "      <th>61290</th>\n",
       "      <td>22415</td>\n",
       "      <td>WHITE TISSUE REAM</td>\n",
       "      <td>11.253021</td>\n",
       "    </tr>\n",
       "  </tbody>\n",
       "</table>\n",
       "<p>61291 rows × 3 columns</p>\n",
       "</div>"
      ],
      "text/plain": [
       "       StockCode                         Description   Quantity\n",
       "0          48184               DOORMAT ENGLISH ROSE   17.901520\n",
       "1          48187                 DOORMAT NEW ENGLAND  17.901582\n",
       "2          21523  DOORMAT FANCY FONT HOME SWEET HOME  17.357683\n",
       "3          22708                     WRAP DOLLY GIRL  17.381855\n",
       "4          22781               GUMBALL MAGAZINE RACK  17.383344\n",
       "...          ...                                 ...        ...\n",
       "61286      21175         GIN + TONIC DIET METAL SIGN  11.227728\n",
       "61287      21524      DOORMAT SPOTTY HOME SWEET HOME  11.234846\n",
       "61288      21098               CHRISTMAS TOILET ROLL  11.226157\n",
       "61289      21181        PLEASE ONE PERSON METAL SIGN  11.227850\n",
       "61290      22415                   WHITE TISSUE REAM  11.253021\n",
       "\n",
       "[61291 rows x 3 columns]"
      ]
     },
     "execution_count": 106,
     "metadata": {},
     "output_type": "execute_result"
    }
   ],
   "source": [
    "vendease_sub"
   ]
  },
  {
   "cell_type": "code",
   "execution_count": 124,
   "id": "fe7a917f-6c85-4dc1-978b-631b7596774f",
   "metadata": {},
   "outputs": [
    {
     "data": {
      "text/html": [
       "<div>\n",
       "<style scoped>\n",
       "    .dataframe tbody tr th:only-of-type {\n",
       "        vertical-align: middle;\n",
       "    }\n",
       "\n",
       "    .dataframe tbody tr th {\n",
       "        vertical-align: top;\n",
       "    }\n",
       "\n",
       "    .dataframe thead th {\n",
       "        text-align: right;\n",
       "    }\n",
       "</style>\n",
       "<table border=\"1\" class=\"dataframe\">\n",
       "  <thead>\n",
       "    <tr style=\"text-align: right;\">\n",
       "      <th></th>\n",
       "      <th>StockCode</th>\n",
       "      <th>Quantity</th>\n",
       "    </tr>\n",
       "  </thead>\n",
       "  <tbody>\n",
       "    <tr>\n",
       "      <th>553</th>\n",
       "      <td>21476</td>\n",
       "      <td>6.0</td>\n",
       "    </tr>\n",
       "    <tr>\n",
       "      <th>633</th>\n",
       "      <td>21632</td>\n",
       "      <td>6.0</td>\n",
       "    </tr>\n",
       "    <tr>\n",
       "      <th>726</th>\n",
       "      <td>21750</td>\n",
       "      <td>6.0</td>\n",
       "    </tr>\n",
       "    <tr>\n",
       "      <th>1111</th>\n",
       "      <td>22275</td>\n",
       "      <td>6.0</td>\n",
       "    </tr>\n",
       "    <tr>\n",
       "      <th>1795</th>\n",
       "      <td>35909</td>\n",
       "      <td>6.0</td>\n",
       "    </tr>\n",
       "    <tr>\n",
       "      <th>...</th>\n",
       "      <td>...</td>\n",
       "      <td>...</td>\n",
       "    </tr>\n",
       "    <tr>\n",
       "      <th>1655</th>\n",
       "      <td>22865</td>\n",
       "      <td>3449.0</td>\n",
       "    </tr>\n",
       "    <tr>\n",
       "      <th>2233</th>\n",
       "      <td>84997</td>\n",
       "      <td>3560.0</td>\n",
       "    </tr>\n",
       "    <tr>\n",
       "      <th>2028</th>\n",
       "      <td>84029</td>\n",
       "      <td>3689.0</td>\n",
       "    </tr>\n",
       "    <tr>\n",
       "      <th>2299</th>\n",
       "      <td>85123</td>\n",
       "      <td>4866.0</td>\n",
       "    </tr>\n",
       "    <tr>\n",
       "      <th>2288</th>\n",
       "      <td>85099</td>\n",
       "      <td>4939.0</td>\n",
       "    </tr>\n",
       "  </tbody>\n",
       "</table>\n",
       "<p>2472 rows × 2 columns</p>\n",
       "</div>"
      ],
      "text/plain": [
       "      StockCode  Quantity\n",
       "553       21476       6.0\n",
       "633       21632       6.0\n",
       "726       21750       6.0\n",
       "1111      22275       6.0\n",
       "1795      35909       6.0\n",
       "...         ...       ...\n",
       "1655      22865    3449.0\n",
       "2233      84997    3560.0\n",
       "2028      84029    3689.0\n",
       "2299      85123    4866.0\n",
       "2288      85099    4939.0\n",
       "\n",
       "[2472 rows x 2 columns]"
      ]
     },
     "execution_count": 124,
     "metadata": {},
     "output_type": "execute_result"
    }
   ],
   "source": [
    "sub1 = vendease_sub.groupby('StockCode')['Quantity'].sum().reset_index()\n",
    "sub1f = sub1.sort_values(by=['Quantity'])\n",
    "sub1f['Quantity'] = sub1f['Quantity'].round()\n",
    "sub1f"
   ]
  },
  {
   "cell_type": "code",
   "execution_count": 125,
   "id": "9ace61e3-f037-4b43-88ab-2a9412f7c623",
   "metadata": {},
   "outputs": [
    {
     "data": {
      "text/html": [
       "<div>\n",
       "<style scoped>\n",
       "    .dataframe tbody tr th:only-of-type {\n",
       "        vertical-align: middle;\n",
       "    }\n",
       "\n",
       "    .dataframe tbody tr th {\n",
       "        vertical-align: top;\n",
       "    }\n",
       "\n",
       "    .dataframe thead th {\n",
       "        text-align: right;\n",
       "    }\n",
       "</style>\n",
       "<table border=\"1\" class=\"dataframe\">\n",
       "  <thead>\n",
       "    <tr style=\"text-align: right;\">\n",
       "      <th></th>\n",
       "      <th>Description</th>\n",
       "      <th>Quantity</th>\n",
       "    </tr>\n",
       "  </thead>\n",
       "  <tbody>\n",
       "    <tr>\n",
       "      <th>2541</th>\n",
       "      <td>STEEL SWEETHEART ROUND TABLE CREAM</td>\n",
       "      <td>6.0</td>\n",
       "    </tr>\n",
       "    <tr>\n",
       "      <th>2712</th>\n",
       "      <td>VINTAGE PINK DECORATIVE PARASOL</td>\n",
       "      <td>6.0</td>\n",
       "    </tr>\n",
       "    <tr>\n",
       "      <th>1393</th>\n",
       "      <td>LARGE SKULL WINDMILL</td>\n",
       "      <td>6.0</td>\n",
       "    </tr>\n",
       "    <tr>\n",
       "      <th>2750</th>\n",
       "      <td>WEEKEND BAG VINTAGE ROSE PAISLEY</td>\n",
       "      <td>6.0</td>\n",
       "    </tr>\n",
       "    <tr>\n",
       "      <th>1864</th>\n",
       "      <td>PINK FLOWERS RABBIT EASTER</td>\n",
       "      <td>6.0</td>\n",
       "    </tr>\n",
       "    <tr>\n",
       "      <th>...</th>\n",
       "      <td>...</td>\n",
       "      <td>...</td>\n",
       "    </tr>\n",
       "    <tr>\n",
       "      <th>2118</th>\n",
       "      <td>REGENCY CAKESTAND 3 TIER</td>\n",
       "      <td>3014.0</td>\n",
       "    </tr>\n",
       "    <tr>\n",
       "      <th>1194</th>\n",
       "      <td>HAND WARMER SCOTTY DOG DESIGN</td>\n",
       "      <td>3153.0</td>\n",
       "    </tr>\n",
       "    <tr>\n",
       "      <th>1753</th>\n",
       "      <td>PAPER CHAIN KIT 50'S CHRISTMAS</td>\n",
       "      <td>3326.0</td>\n",
       "    </tr>\n",
       "    <tr>\n",
       "      <th>1191</th>\n",
       "      <td>HAND WARMER OWL DESIGN</td>\n",
       "      <td>3449.0</td>\n",
       "    </tr>\n",
       "    <tr>\n",
       "      <th>2776</th>\n",
       "      <td>WHITE HANGING HEART T-LIGHT HOLDER</td>\n",
       "      <td>4866.0</td>\n",
       "    </tr>\n",
       "  </tbody>\n",
       "</table>\n",
       "<p>2897 rows × 2 columns</p>\n",
       "</div>"
      ],
      "text/plain": [
       "                             Description  Quantity\n",
       "2541  STEEL SWEETHEART ROUND TABLE CREAM       6.0\n",
       "2712     VINTAGE PINK DECORATIVE PARASOL       6.0\n",
       "1393                LARGE SKULL WINDMILL       6.0\n",
       "2750    WEEKEND BAG VINTAGE ROSE PAISLEY       6.0\n",
       "1864          PINK FLOWERS RABBIT EASTER       6.0\n",
       "...                                  ...       ...\n",
       "2118            REGENCY CAKESTAND 3 TIER    3014.0\n",
       "1194       HAND WARMER SCOTTY DOG DESIGN    3153.0\n",
       "1753     PAPER CHAIN KIT 50'S CHRISTMAS     3326.0\n",
       "1191              HAND WARMER OWL DESIGN    3449.0\n",
       "2776  WHITE HANGING HEART T-LIGHT HOLDER    4866.0\n",
       "\n",
       "[2897 rows x 2 columns]"
      ]
     },
     "execution_count": 125,
     "metadata": {},
     "output_type": "execute_result"
    }
   ],
   "source": [
    "sub2 = vendease_sub.groupby('Description')['Quantity'].sum().reset_index()\n",
    "sub2f = sub2.sort_values(by=['Quantity'])\n",
    "sub2f['Quantity'] = sub2f['Quantity'].round()\n",
    "sub2f"
   ]
  },
  {
   "cell_type": "code",
   "execution_count": 126,
   "id": "29a6c28f-f3ec-4ce1-a1ac-e6239f30bbf7",
   "metadata": {},
   "outputs": [
    {
     "data": {
      "text/html": [
       "<div>\n",
       "<style scoped>\n",
       "    .dataframe tbody tr th:only-of-type {\n",
       "        vertical-align: middle;\n",
       "    }\n",
       "\n",
       "    .dataframe tbody tr th {\n",
       "        vertical-align: top;\n",
       "    }\n",
       "\n",
       "    .dataframe thead th {\n",
       "        text-align: right;\n",
       "    }\n",
       "</style>\n",
       "<table border=\"1\" class=\"dataframe\">\n",
       "  <thead>\n",
       "    <tr style=\"text-align: right;\">\n",
       "      <th></th>\n",
       "      <th>StockCode</th>\n",
       "      <th>Description</th>\n",
       "      <th>Quantity</th>\n",
       "    </tr>\n",
       "  </thead>\n",
       "  <tbody>\n",
       "    <tr>\n",
       "      <th>0</th>\n",
       "      <td>21476</td>\n",
       "      <td>STEEL SWEETHEART ROUND TABLE CREAM</td>\n",
       "      <td>6.0</td>\n",
       "    </tr>\n",
       "    <tr>\n",
       "      <th>1</th>\n",
       "      <td>21632</td>\n",
       "      <td>VINTAGE PINK DECORATIVE PARASOL</td>\n",
       "      <td>6.0</td>\n",
       "    </tr>\n",
       "    <tr>\n",
       "      <th>2</th>\n",
       "      <td>21750</td>\n",
       "      <td>LARGE SKULL WINDMILL</td>\n",
       "      <td>6.0</td>\n",
       "    </tr>\n",
       "    <tr>\n",
       "      <th>3</th>\n",
       "      <td>22275</td>\n",
       "      <td>WEEKEND BAG VINTAGE ROSE PAISLEY</td>\n",
       "      <td>6.0</td>\n",
       "    </tr>\n",
       "    <tr>\n",
       "      <th>4</th>\n",
       "      <td>35909</td>\n",
       "      <td>PINK FLOWERS RABBIT EASTER</td>\n",
       "      <td>6.0</td>\n",
       "    </tr>\n",
       "    <tr>\n",
       "      <th>...</th>\n",
       "      <td>...</td>\n",
       "      <td>...</td>\n",
       "      <td>...</td>\n",
       "    </tr>\n",
       "    <tr>\n",
       "      <th>2467</th>\n",
       "      <td>22865</td>\n",
       "      <td>BLACK/BLUE POLKADOT UMBRELLA</td>\n",
       "      <td>3449.0</td>\n",
       "    </tr>\n",
       "    <tr>\n",
       "      <th>2468</th>\n",
       "      <td>84997</td>\n",
       "      <td>CREAM SWEETHEART LETTER RACK</td>\n",
       "      <td>3560.0</td>\n",
       "    </tr>\n",
       "    <tr>\n",
       "      <th>2469</th>\n",
       "      <td>84029</td>\n",
       "      <td>SKULLS WRITING SET</td>\n",
       "      <td>3689.0</td>\n",
       "    </tr>\n",
       "    <tr>\n",
       "      <th>2470</th>\n",
       "      <td>85123</td>\n",
       "      <td>GLITTER CHRISTMAS STAR</td>\n",
       "      <td>4866.0</td>\n",
       "    </tr>\n",
       "    <tr>\n",
       "      <th>2471</th>\n",
       "      <td>85099</td>\n",
       "      <td>RETROSPOT CIGAR BOX MATCHES</td>\n",
       "      <td>4939.0</td>\n",
       "    </tr>\n",
       "  </tbody>\n",
       "</table>\n",
       "<p>2472 rows × 3 columns</p>\n",
       "</div>"
      ],
      "text/plain": [
       "      StockCode                         Description  Quantity\n",
       "0         21476  STEEL SWEETHEART ROUND TABLE CREAM       6.0\n",
       "1         21632     VINTAGE PINK DECORATIVE PARASOL       6.0\n",
       "2         21750                LARGE SKULL WINDMILL       6.0\n",
       "3         22275    WEEKEND BAG VINTAGE ROSE PAISLEY       6.0\n",
       "4         35909          PINK FLOWERS RABBIT EASTER       6.0\n",
       "...         ...                                 ...       ...\n",
       "2467      22865        BLACK/BLUE POLKADOT UMBRELLA    3449.0\n",
       "2468      84997        CREAM SWEETHEART LETTER RACK    3560.0\n",
       "2469      84029                 SKULLS WRITING SET     3689.0\n",
       "2470      85123             GLITTER CHRISTMAS STAR     4866.0\n",
       "2471      85099        RETROSPOT CIGAR BOX MATCHES     4939.0\n",
       "\n",
       "[2472 rows x 3 columns]"
      ]
     },
     "execution_count": 126,
     "metadata": {},
     "output_type": "execute_result"
    }
   ],
   "source": [
    "final = pd.DataFrame(zip(sub1f['StockCode'], sub2f['Description'], sub1f['Quantity']), columns = ['StockCode', 'Description','Quantity'])\n",
    "final"
   ]
  },
  {
   "cell_type": "code",
   "execution_count": 129,
   "id": "5611b95c-4084-4061-8977-a950cb6d33f4",
   "metadata": {},
   "outputs": [],
   "source": [
    "vendease_sub.to_csv('Vendease.csv', index=False)"
   ]
  },
  {
   "cell_type": "code",
   "execution_count": null,
   "id": "9ede4950-c29d-4c99-93a2-bf006470160f",
   "metadata": {},
   "outputs": [],
   "source": [
    " "
   ]
  }
 ],
 "metadata": {
  "kernelspec": {
   "display_name": "Python 3 (ipykernel)",
   "language": "python",
   "name": "python3"
  },
  "language_info": {
   "codemirror_mode": {
    "name": "ipython",
    "version": 3
   },
   "file_extension": ".py",
   "mimetype": "text/x-python",
   "name": "python",
   "nbconvert_exporter": "python",
   "pygments_lexer": "ipython3",
   "version": "3.9.7"
  },
  "widgets": {
   "application/vnd.jupyter.widget-state+json": {
    "state": {},
    "version_major": 2,
    "version_minor": 0
   }
  }
 },
 "nbformat": 4,
 "nbformat_minor": 5
}
